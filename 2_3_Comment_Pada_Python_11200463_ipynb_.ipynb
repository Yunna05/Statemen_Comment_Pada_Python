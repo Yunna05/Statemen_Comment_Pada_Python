{
  "nbformat": 4,
  "nbformat_minor": 0,
  "metadata": {
    "colab": {
      "name": "2_3_Comment_Pada_Python_11200463.ipynb.",
      "provenance": [],
      "collapsed_sections": []
    },
    "kernelspec": {
      "name": "python3",
      "display_name": "Python 3"
    }
  },
  "cells": [
    {
      "cell_type": "code",
      "metadata": {
        "id": "QChNmnXf_-pE"
      },
      "source": [
        ""
      ],
      "execution_count": null,
      "outputs": []
    },
    {
      "cell_type": "markdown",
      "metadata": {
        "id": "CQqHfxdyArzJ"
      },
      "source": [
        "##Melakukan Comment Pada Python\n",
        "Pada suatu kegiatan membuat code, penting sekali bagi para penulis codenya untuk memberikan sebuah dokumentasi pada penulisan codenya. Mengapa hal itu sangat penting? Sederhana, jika codenya sudah lebih dari ribuan baris dan ada beberapa bagian yang perlu diperbaiki karena suatu perubahan, para penulis code cukup melihat dokumentasinya dan tidak perlu membaca dan memahami seluruh isi code dari awal. Nah, salah satu metode yang biasa digunakan adalah menggunakan comment. Sama dengan Bahasa Python juga menggunakan tanda “#” untuk melakukan comment pada script.\n",
        "\n",
        "Cobalah ketikkan sebuah kalimat seperti di bawah ini beserta commentnya. Kemudian lakukan eksekusi dengan menekan tombol **[Run]**"
      ]
    },
    {
      "cell_type": "code",
      "metadata": {
        "id": "oBXKvs3qA2Xb",
        "colab": {
          "base_uri": "https://localhost:8080/"
        },
        "outputId": "bc452fda-def6-4bbe-fad8-0fd561f727d8"
      },
      "source": [
        "print(\"10*2+5\")#ini adalah fungsi matematika"
      ],
      "execution_count": 6,
      "outputs": [
        {
          "output_type": "stream",
          "name": "stdout",
          "text": [
            "10*2+5\n"
          ]
        }
      ]
    },
    {
      "cell_type": "markdown",
      "metadata": {
        "id": "8yPh4FQWA_DU"
      },
      "source": [
        "Perlu diketahui, comment tidak akan pernah tampil pada hasil melalui console atau GUI. Fungsi comment bisa dikatakan sebagai penanda. Kenapa bab ini diberikan diawal? Harapannya dengan pengetahuan ini setiap kali Anda membuat baris code, bisa diberikan dokumentasi. Dokumentasi sangat penting untuk pengembangan suatu code apabila memang nanti diperlukan.\n",
        "\n",
        "Dokumentasi kode juga berlaku untuk variable. Sangat penting mengetahui bahwa setiap variable berfungsi sebagai apa dan isinya apa. Maka dari itu jangan lupa untuk membuat dan memberi comment untuk setiap kode pada materi kita\n",
        "\n",
        " \n",
        "\n",
        "**Tugas Praktek 3.2**\n",
        "\n",
        "1. Berikan keterangan untuk setiap baris program dengan perintah comment"
      ]
    },
    {
      "cell_type": "code",
      "metadata": {
        "id": "Yy5gqIzRBApb",
        "colab": {
          "base_uri": "https://localhost:8080/"
        },
        "outputId": "4fee5a7f-7792-4a25-8d39-a100d7dd9231"
      },
      "source": [
        "print(\"10*2+5\")#ini adalah fungsi matematika"
      ],
      "execution_count": 5,
      "outputs": [
        {
          "output_type": "stream",
          "name": "stdout",
          "text": [
            "10*2+5\n"
          ]
        }
      ]
    },
    {
      "cell_type": "markdown",
      "metadata": {
        "id": "PQsFFoqjBJm0"
      },
      "source": [
        "2. Cetak Nama dan NIM anda dilayar berikan comment untuk masing - masing perintah"
      ]
    },
    {
      "cell_type": "code",
      "metadata": {
        "id": "SiToLqkJw3p7",
        "colab": {
          "base_uri": "https://localhost:8080/"
        },
        "outputId": "de70d2c2-1cc5-4a6b-844d-5f6aabf11a6d"
      },
      "source": [
        "print(\"Yuyun Nurazizah_11200463\")#Saya dari prodi Sistem Informasi nama Saya Yuyun Nurazizah dan NIM 1120043"
      ],
      "execution_count": 7,
      "outputs": [
        {
          "output_type": "stream",
          "name": "stdout",
          "text": [
            "Yuyun Nurazizah_11200463\n"
          ]
        }
      ]
    },
    {
      "cell_type": "code",
      "metadata": {
        "id": "SZlJ2UA7b5FI"
      },
      "source": [
        ""
      ],
      "execution_count": null,
      "outputs": []
    }
  ]
}